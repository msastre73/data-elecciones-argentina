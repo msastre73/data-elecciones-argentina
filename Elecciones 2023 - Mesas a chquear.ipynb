{
 "cells": [
  {
   "cell_type": "markdown",
   "id": "d1a03d7a-2e4c-4807-95c1-1858e357aa24",
   "metadata": {},
   "source": [
    "<h1>Elecciones 2023 - Mesas a chequear</h1>"
   ]
  },
  {
   "cell_type": "markdown",
   "id": "93764a8d-5c0a-43d4-87ca-bd4c40fd74d0",
   "metadata": {},
   "source": [
    "Mesas con 60% o mas para un candidato."
   ]
  },
  {
   "cell_type": "markdown",
   "id": "09fa5c60-8a6e-4136-a112-dc0f14a383de",
   "metadata": {},
   "source": [
    "<b>Imports</b>"
   ]
  },
  {
   "cell_type": "code",
   "execution_count": 2,
   "id": "879d183b-f34b-4ac2-acda-bd313938eea2",
   "metadata": {},
   "outputs": [],
   "source": [
    "import pandas as pd"
   ]
  },
  {
   "cell_type": "markdown",
   "id": "cc78b909-d83a-4a91-aec1-f266d1a177cb",
   "metadata": {},
   "source": [
    "<b>Pandas Config</b>"
   ]
  },
  {
   "cell_type": "code",
   "execution_count": 4,
   "id": "fbbbc209-aaf0-4599-be3a-84bff38d1ce5",
   "metadata": {},
   "outputs": [],
   "source": [
    "pd.options.display.float_format = '{:,.2f}'.format\n",
    "pd.set_option('display.max_columns', None)"
   ]
  },
  {
   "cell_type": "markdown",
   "id": "ed438129-c692-47d3-a546-2c690d4eeb85",
   "metadata": {},
   "source": [
    "<b>DF base</b>"
   ]
  },
  {
   "cell_type": "code",
   "execution_count": 8,
   "id": "8fef5331-90a6-49c3-b33c-5b1a0cbbc33e",
   "metadata": {
    "collapsed": true,
    "jupyter": {
     "outputs_hidden": true
    }
   },
   "outputs": [
    {
     "name": "stdout",
     "output_type": "stream",
     "text": [
      "<class 'pandas.core.frame.DataFrame'>\n",
      "RangeIndex: 104520 entries, 0 to 104519\n",
      "Data columns (total 49 columns):\n",
      " #   Column                    Non-Null Count   Dtype  \n",
      "---  ------                    --------------   -----  \n",
      " 0   mesa_id_web               104520 non-null  object \n",
      " 1   mesa_URL                  104520 non-null  object \n",
      " 2   fit_nombre                104520 non-null  object \n",
      " 3   fit_id                    104520 non-null  int64  \n",
      " 4   fit_votos                 104520 non-null  int64  \n",
      " 5   fit_perc                  104520 non-null  float64\n",
      " 6   hxp_nombre                104520 non-null  object \n",
      " 7   hxp_id                    104520 non-null  int64  \n",
      " 8   hxp_votos                 104520 non-null  int64  \n",
      " 9   hxp_perc                  104520 non-null  float64\n",
      " 10  jxc_nombre                104520 non-null  object \n",
      " 11  jxc_id                    104520 non-null  int64  \n",
      " 12  jxc_votos                 104520 non-null  int64  \n",
      " 13  jxc_perc                  104520 non-null  float64\n",
      " 14  lla_nombre                104520 non-null  object \n",
      " 15  lla_id                    104520 non-null  int64  \n",
      " 16  lla_votos                 104520 non-null  int64  \n",
      " 17  lla_perc                  104520 non-null  float64\n",
      " 18  up_nombre                 104520 non-null  object \n",
      " 19  up_id                     104520 non-null  int64  \n",
      " 20  up_votos                  104520 non-null  int64  \n",
      " 21  up_perc                   104520 non-null  float64\n",
      " 22  en_blanco                 104520 non-null  int64  \n",
      " 23  en_blanco_perc            104520 non-null  float64\n",
      " 24  nulo                      104520 non-null  int64  \n",
      " 25  nulo_perc                 104520 non-null  float64\n",
      " 26  total_positivos           104520 non-null  int64  \n",
      " 27  total_votos               104520 non-null  int64  \n",
      " 28  año                       104520 non-null  int64  \n",
      " 29  eleccion_tipo             104520 non-null  object \n",
      " 30  recuento_tipo             104520 non-null  object \n",
      " 31  padron_tipo               104520 non-null  object \n",
      " 32  distrito_id               104520 non-null  int64  \n",
      " 33  distrito_nombre           104520 non-null  object \n",
      " 34  seccionprovincial_id      104520 non-null  int64  \n",
      " 35  seccionprovincial_nombre  104520 non-null  object \n",
      " 36  seccion_id                104520 non-null  int64  \n",
      " 37  seccion_nombre            104520 non-null  object \n",
      " 38  circuito_id               104520 non-null  object \n",
      " 39  circuito_nombre           104520 non-null  object \n",
      " 40  mesa_id                   104520 non-null  int64  \n",
      " 41  mesa_tipo                 104520 non-null  object \n",
      " 42  mesa_electores            104520 non-null  int64  \n",
      " 43  cargo_id                  104520 non-null  int64  \n",
      " 44  cargo_nombre              104520 non-null  object \n",
      " 45  lista_numero              104520 non-null  float64\n",
      " 46  lista_nombre              104520 non-null  int64  \n",
      " 47  id_mesa_unico             104520 non-null  object \n",
      " 48  nomenclator_id            104520 non-null  int64  \n",
      "dtypes: float64(8), int64(23), object(18)\n",
      "memory usage: 39.1+ MB\n"
     ]
    }
   ],
   "source": [
    "df_data = pd.read_csv(\"bases/elecciones_2023_votos_flat.csv\", low_memory=False, encoding='latin1')\n",
    "df_data.info()"
   ]
  },
  {
   "cell_type": "markdown",
   "id": "519dffa4-9ca7-42c3-a1f3-0e4b6f06d643",
   "metadata": {},
   "source": [
    "<h2>Preparando la informacion</h2>"
   ]
  },
  {
   "cell_type": "code",
   "execution_count": 43,
   "id": "9807718b-aa74-46ae-a29d-8d10a933d3c4",
   "metadata": {},
   "outputs": [],
   "source": [
    "# Filrar mesas en las que al menos uno de los partidos tiene mas que le minimo establecido\n",
    "min_porcentaje = 60\n",
    "mesas_filtradas = df_data.query(f'fit_perc > {min_porcentaje} or up_perc > {min_porcentaje} '\n",
    "                                f'or jxc_perc > {min_porcentaje} or lla_perc > {min_porcentaje} '\n",
    "                                f'or hxp_perc > {min_porcentaje}').copy()\n",
    "\n",
    "# Agregar columnas para el chqueo\n",
    "mesas_filtradas[\"procesado\"] = 0\n",
    "mesas_filtradas[\"flagged\"] = 0\n",
    "mesas_filtradas[\"chequeado\"] = 0\n",
    "mesas_filtradas[\"error\"] = 0"
   ]
  },
  {
   "cell_type": "markdown",
   "id": "ce1117f9-1d64-4a48-9d7a-3c4fcf8d90a0",
   "metadata": {},
   "source": [
    "<h2>Exportar CSV</h2>"
   ]
  },
  {
   "cell_type": "code",
   "execution_count": 47,
   "id": "db8fa737-4a75-4c9f-98cc-f7a108160a22",
   "metadata": {},
   "outputs": [],
   "source": [
    "# Exportar\n",
    "mesas_filtradas.to_csv('bases/elecciones_2023_votos_flat_CHECK.csv', index=False, encoding='latin1')"
   ]
  },
  {
   "cell_type": "code",
   "execution_count": 51,
   "id": "b7b1c222-e793-4f4b-994b-67d74ea1c134",
   "metadata": {},
   "outputs": [
    {
     "data": {
      "text/plain": [
       "mesa_id_web                                                       0100100152X\n",
       "mesa_URL                    https://resultados.gob.ar/elecciones/1/24105/1...\n",
       "fit_nombre                     FRENTE DE IZQUIERDA Y DE TRABAJADORES - UNIDAD\n",
       "fit_id                                                                    136\n",
       "fit_votos                                                                   0\n",
       "fit_perc                                                                 0.00\n",
       "hxp_nombre                                           HACEMOS POR NUESTRO PAIS\n",
       "hxp_id                                                                    133\n",
       "hxp_votos                                                                   5\n",
       "hxp_perc                                                                 2.03\n",
       "jxc_nombre                                               JUNTOS POR EL CAMBIO\n",
       "jxc_id                                                                    132\n",
       "jxc_votos                                                                 168\n",
       "jxc_perc                                                                68.29\n",
       "lla_nombre                                                 LA LIBERTAD AVANZA\n",
       "lla_id                                                                    135\n",
       "lla_votos                                                                  38\n",
       "lla_perc                                                                15.45\n",
       "up_nombre                                                 UNION POR LA PATRIA\n",
       "up_id                                                                     134\n",
       "up_votos                                                                   35\n",
       "up_perc                                                                 14.23\n",
       "en_blanco                                                                   5\n",
       "en_blanco_perc                                                           2.03\n",
       "nulo                                                                        0\n",
       "nulo_perc                                                                0.00\n",
       "total_positivos                                                           246\n",
       "total_votos                                                               251\n",
       "año                                                                      2023\n",
       "eleccion_tipo                                                         GENERAL\n",
       "recuento_tipo                                                      PROVISORIO\n",
       "padron_tipo                                                            NORMAL\n",
       "distrito_id                                                                 1\n",
       "distrito_nombre                               Ciudad Autónoma de Buenos Aires\n",
       "seccionprovincial_id                                                        0\n",
       "seccionprovincial_nombre                                                    0\n",
       "seccion_id                                                                  1\n",
       "seccion_nombre                                                      Comuna 01\n",
       "circuito_id                                                             00006\n",
       "circuito_nombre                                                         00006\n",
       "mesa_id                                                                   152\n",
       "mesa_tipo                                                             NATIVOS\n",
       "mesa_electores                                                            346\n",
       "cargo_id                                                                    1\n",
       "cargo_nombre                                                PRESIDENTE Y VICE\n",
       "lista_numero                                                             0.00\n",
       "lista_nombre                                                                0\n",
       "id_mesa_unico                                                 1-0-1-00006-152\n",
       "nomenclator_id                                                          24105\n",
       "procesado                                                                   0\n",
       "flagged                                                                     0\n",
       "chequeado                                                                   0\n",
       "error                                                                       0\n",
       "Name: 151, dtype: object"
      ]
     },
     "execution_count": 51,
     "metadata": {},
     "output_type": "execute_result"
    }
   ],
   "source": [
    "mesas_filtradas.iloc[50]"
   ]
  }
 ],
 "metadata": {
  "kernelspec": {
   "display_name": "Python 3 (ipykernel)",
   "language": "python",
   "name": "python3"
  },
  "language_info": {
   "codemirror_mode": {
    "name": "ipython",
    "version": 3
   },
   "file_extension": ".py",
   "mimetype": "text/x-python",
   "name": "python",
   "nbconvert_exporter": "python",
   "pygments_lexer": "ipython3",
   "version": "3.11.0"
  }
 },
 "nbformat": 4,
 "nbformat_minor": 5
}
