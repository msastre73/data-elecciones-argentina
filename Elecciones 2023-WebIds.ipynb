{
 "cells": [
  {
   "cell_type": "markdown",
   "id": "3cd94b6d-49c6-4d88-b176-9a9d77b2d929",
   "metadata": {},
   "source": [
    "<h1>Elecciones 2023</h1>"
   ]
  },
  {
   "cell_type": "markdown",
   "id": "046509ab-1c91-4512-8bdd-5487958fb930",
   "metadata": {},
   "source": [
    "<h2>Configuracion</h2>"
   ]
  },
  {
   "cell_type": "markdown",
   "id": "e5caae54-9721-4af1-bfb1-7ee8a1627625",
   "metadata": {},
   "source": [
    "<b>Instalations</b>"
   ]
  },
  {
   "cell_type": "code",
   "execution_count": 1,
   "id": "e4e05860-2c47-4dbc-b67a-92cc2baf1e55",
   "metadata": {
    "collapsed": true,
    "jupyter": {
     "outputs_hidden": true
    }
   },
   "outputs": [
    {
     "name": "stdout",
     "output_type": "stream",
     "text": [
      "Requirement already satisfied: plotly in c:\\users\\marco\\onedrive\\documents\\marcos\\programacion\\python\\elecciones\\venv\\lib\\site-packages (5.18.0)\n",
      "Requirement already satisfied: tenacity>=6.2.0 in c:\\users\\marco\\onedrive\\documents\\marcos\\programacion\\python\\elecciones\\venv\\lib\\site-packages (from plotly) (8.2.3)\n",
      "Requirement already satisfied: packaging in c:\\users\\marco\\onedrive\\documents\\marcos\\programacion\\python\\elecciones\\venv\\lib\\site-packages (from plotly) (23.2)\n",
      "Note: you may need to restart the kernel to use updated packages.\n"
     ]
    },
    {
     "name": "stderr",
     "output_type": "stream",
     "text": [
      "WARNING: You are using pip version 21.3.1; however, version 23.3.1 is available.\n",
      "You should consider upgrading via the 'C:\\Users\\marco\\OneDrive\\Documents\\Marcos\\Programacion\\PYTHON\\elecciones\\venv\\Scripts\\python.exe -m pip install --upgrade pip' command.\n"
     ]
    },
    {
     "name": "stdout",
     "output_type": "stream",
     "text": [
      "Requirement already satisfied: pandas in c:\\users\\marco\\onedrive\\documents\\marcos\\programacion\\python\\elecciones\\venv\\lib\\site-packages (2.1.1)\n",
      "Requirement already satisfied: pytz>=2020.1 in c:\\users\\marco\\onedrive\\documents\\marcos\\programacion\\python\\elecciones\\venv\\lib\\site-packages (from pandas) (2023.3.post1)\n",
      "Requirement already satisfied: python-dateutil>=2.8.2 in c:\\users\\marco\\onedrive\\documents\\marcos\\programacion\\python\\elecciones\\venv\\lib\\site-packages (from pandas) (2.8.2)\n",
      "Requirement already satisfied: tzdata>=2022.1 in c:\\users\\marco\\onedrive\\documents\\marcos\\programacion\\python\\elecciones\\venv\\lib\\site-packages (from pandas) (2023.3)\n",
      "Requirement already satisfied: numpy>=1.23.2 in c:\\users\\marco\\onedrive\\documents\\marcos\\programacion\\python\\elecciones\\venv\\lib\\site-packages (from pandas) (1.26.1)\n",
      "Requirement already satisfied: six>=1.5 in c:\\users\\marco\\onedrive\\documents\\marcos\\programacion\\python\\elecciones\\venv\\lib\\site-packages (from python-dateutil>=2.8.2->pandas) (1.16.0)\n",
      "Note: you may need to restart the kernel to use updated packages.\n"
     ]
    },
    {
     "name": "stderr",
     "output_type": "stream",
     "text": [
      "WARNING: You are using pip version 21.3.1; however, version 23.3.1 is available.\n",
      "You should consider upgrading via the 'C:\\Users\\marco\\OneDrive\\Documents\\Marcos\\Programacion\\PYTHON\\elecciones\\venv\\Scripts\\python.exe -m pip install --upgrade pip' command.\n"
     ]
    },
    {
     "name": "stdout",
     "output_type": "stream",
     "text": [
      "Requirement already satisfied: numpy in c:\\users\\marco\\onedrive\\documents\\marcos\\programacion\\python\\elecciones\\venv\\lib\\site-packages (1.26.1)\n",
      "Note: you may need to restart the kernel to use updated packages.\n"
     ]
    },
    {
     "name": "stderr",
     "output_type": "stream",
     "text": [
      "WARNING: You are using pip version 21.3.1; however, version 23.3.1 is available.\n",
      "You should consider upgrading via the 'C:\\Users\\marco\\OneDrive\\Documents\\Marcos\\Programacion\\PYTHON\\elecciones\\venv\\Scripts\\python.exe -m pip install --upgrade pip' command.\n"
     ]
    },
    {
     "name": "stdout",
     "output_type": "stream",
     "text": [
      "Requirement already satisfied: seaborn in c:\\users\\marco\\onedrive\\documents\\marcos\\programacion\\python\\elecciones\\venv\\lib\\site-packages (0.13.0)\n",
      "Requirement already satisfied: pandas>=1.2 in c:\\users\\marco\\onedrive\\documents\\marcos\\programacion\\python\\elecciones\\venv\\lib\\site-packages (from seaborn) (2.1.1)\n",
      "Requirement already satisfied: numpy!=1.24.0,>=1.20 in c:\\users\\marco\\onedrive\\documents\\marcos\\programacion\\python\\elecciones\\venv\\lib\\site-packages (from seaborn) (1.26.1)\n",
      "Requirement already satisfied: matplotlib!=3.6.1,>=3.3 in c:\\users\\marco\\onedrive\\documents\\marcos\\programacion\\python\\elecciones\\venv\\lib\\site-packages (from seaborn) (3.8.0)\n",
      "Requirement already satisfied: fonttools>=4.22.0 in c:\\users\\marco\\onedrive\\documents\\marcos\\programacion\\python\\elecciones\\venv\\lib\\site-packages (from matplotlib!=3.6.1,>=3.3->seaborn) (4.43.1)\n",
      "Requirement already satisfied: kiwisolver>=1.0.1 in c:\\users\\marco\\onedrive\\documents\\marcos\\programacion\\python\\elecciones\\venv\\lib\\site-packages (from matplotlib!=3.6.1,>=3.3->seaborn) (1.4.5)\n",
      "Requirement already satisfied: pillow>=6.2.0 in c:\\users\\marco\\onedrive\\documents\\marcos\\programacion\\python\\elecciones\\venv\\lib\\site-packages (from matplotlib!=3.6.1,>=3.3->seaborn) (10.1.0)\n",
      "Requirement already satisfied: cycler>=0.10 in c:\\users\\marco\\onedrive\\documents\\marcos\\programacion\\python\\elecciones\\venv\\lib\\site-packages (from matplotlib!=3.6.1,>=3.3->seaborn) (0.12.1)\n",
      "Requirement already satisfied: pyparsing>=2.3.1 in c:\\users\\marco\\onedrive\\documents\\marcos\\programacion\\python\\elecciones\\venv\\lib\\site-packages (from matplotlib!=3.6.1,>=3.3->seaborn) (3.1.1)\n",
      "Requirement already satisfied: packaging>=20.0 in c:\\users\\marco\\onedrive\\documents\\marcos\\programacion\\python\\elecciones\\venv\\lib\\site-packages (from matplotlib!=3.6.1,>=3.3->seaborn) (23.2)\n",
      "Requirement already satisfied: contourpy>=1.0.1 in c:\\users\\marco\\onedrive\\documents\\marcos\\programacion\\python\\elecciones\\venv\\lib\\site-packages (from matplotlib!=3.6.1,>=3.3->seaborn) (1.1.1)\n",
      "Requirement already satisfied: python-dateutil>=2.7 in c:\\users\\marco\\onedrive\\documents\\marcos\\programacion\\python\\elecciones\\venv\\lib\\site-packages (from matplotlib!=3.6.1,>=3.3->seaborn) (2.8.2)\n",
      "Requirement already satisfied: tzdata>=2022.1 in c:\\users\\marco\\onedrive\\documents\\marcos\\programacion\\python\\elecciones\\venv\\lib\\site-packages (from pandas>=1.2->seaborn) (2023.3)\n",
      "Requirement already satisfied: pytz>=2020.1 in c:\\users\\marco\\onedrive\\documents\\marcos\\programacion\\python\\elecciones\\venv\\lib\\site-packages (from pandas>=1.2->seaborn) (2023.3.post1)\n",
      "Requirement already satisfied: six>=1.5 in c:\\users\\marco\\onedrive\\documents\\marcos\\programacion\\python\\elecciones\\venv\\lib\\site-packages (from python-dateutil>=2.7->matplotlib!=3.6.1,>=3.3->seaborn) (1.16.0)\n",
      "Note: you may need to restart the kernel to use updated packages.\n"
     ]
    },
    {
     "name": "stderr",
     "output_type": "stream",
     "text": [
      "WARNING: You are using pip version 21.3.1; however, version 23.3.1 is available.\n",
      "You should consider upgrading via the 'C:\\Users\\marco\\OneDrive\\Documents\\Marcos\\Programacion\\PYTHON\\elecciones\\venv\\Scripts\\python.exe -m pip install --upgrade pip' command.\n"
     ]
    },
    {
     "name": "stdout",
     "output_type": "stream",
     "text": [
      "Requirement already satisfied: matplotlib in c:\\users\\marco\\onedrive\\documents\\marcos\\programacion\\python\\elecciones\\venv\\lib\\site-packages (3.8.0)\n",
      "Requirement already satisfied: numpy<2,>=1.21 in c:\\users\\marco\\onedrive\\documents\\marcos\\programacion\\python\\elecciones\\venv\\lib\\site-packages (from matplotlib) (1.26.1)\n",
      "Requirement already satisfied: pyparsing>=2.3.1 in c:\\users\\marco\\onedrive\\documents\\marcos\\programacion\\python\\elecciones\\venv\\lib\\site-packages (from matplotlib) (3.1.1)\n",
      "Requirement already satisfied: python-dateutil>=2.7 in c:\\users\\marco\\onedrive\\documents\\marcos\\programacion\\python\\elecciones\\venv\\lib\\site-packages (from matplotlib) (2.8.2)\n",
      "Requirement already satisfied: kiwisolver>=1.0.1 in c:\\users\\marco\\onedrive\\documents\\marcos\\programacion\\python\\elecciones\\venv\\lib\\site-packages (from matplotlib) (1.4.5)\n",
      "Requirement already satisfied: packaging>=20.0 in c:\\users\\marco\\onedrive\\documents\\marcos\\programacion\\python\\elecciones\\venv\\lib\\site-packages (from matplotlib) (23.2)\n",
      "Requirement already satisfied: pillow>=6.2.0 in c:\\users\\marco\\onedrive\\documents\\marcos\\programacion\\python\\elecciones\\venv\\lib\\site-packages (from matplotlib) (10.1.0)\n",
      "Requirement already satisfied: cycler>=0.10 in c:\\users\\marco\\onedrive\\documents\\marcos\\programacion\\python\\elecciones\\venv\\lib\\site-packages (from matplotlib) (0.12.1)\n",
      "Requirement already satisfied: fonttools>=4.22.0 in c:\\users\\marco\\onedrive\\documents\\marcos\\programacion\\python\\elecciones\\venv\\lib\\site-packages (from matplotlib) (4.43.1)\n",
      "Requirement already satisfied: contourpy>=1.0.1 in c:\\users\\marco\\onedrive\\documents\\marcos\\programacion\\python\\elecciones\\venv\\lib\\site-packages (from matplotlib) (1.1.1)\n",
      "Requirement already satisfied: six>=1.5 in c:\\users\\marco\\onedrive\\documents\\marcos\\programacion\\python\\elecciones\\venv\\lib\\site-packages (from python-dateutil>=2.7->matplotlib) (1.16.0)\n",
      "Note: you may need to restart the kernel to use updated packages.\n"
     ]
    },
    {
     "name": "stderr",
     "output_type": "stream",
     "text": [
      "WARNING: You are using pip version 21.3.1; however, version 23.3.1 is available.\n",
      "You should consider upgrading via the 'C:\\Users\\marco\\OneDrive\\Documents\\Marcos\\Programacion\\PYTHON\\elecciones\\venv\\Scripts\\python.exe -m pip install --upgrade pip' command.\n"
     ]
    }
   ],
   "source": [
    "%pip install --upgrade plotly\n",
    "%pip install pandas\n",
    "%pip install numpy\n",
    "%pip install seaborn\n",
    "%pip install matplotlib\n",
    "%pip install scipy\n",
    "%pip install geopandas\n"
   ]
  },
  {
   "cell_type": "markdown",
   "id": "864c64a9-ee81-44de-be45-5ac6f47782b3",
   "metadata": {},
   "source": [
    "<b>Imports</b>"
   ]
  },
  {
   "cell_type": "code",
   "execution_count": 1,
   "id": "1f5cf36a-48f8-4ab0-9c16-db234d29def0",
   "metadata": {},
   "outputs": [],
   "source": [
    "import pandas as pd\n",
    "import numpy as np\n",
    "import plotly.express as px\n",
    "import seaborn as sns\n",
    "import matplotlib.pyplot as plt\n",
    "from scipy.optimize import curve_fit\n",
    "from scipy.stats import skewnorm\n",
    "import geopandas as gpd"
   ]
  },
  {
   "cell_type": "markdown",
   "id": "ebb69ae6-802b-418a-a16a-3c2e60e5e245",
   "metadata": {},
   "source": [
    "<b>Pandas Config</b>"
   ]
  },
  {
   "cell_type": "code",
   "execution_count": 2,
   "id": "b2911ddb-1cad-4f24-82a8-645d2bd53631",
   "metadata": {},
   "outputs": [],
   "source": [
    "pd.options.display.float_format = '{:,.2f}'.format\n",
    "pd.set_option('display.max_columns', None)"
   ]
  },
  {
   "cell_type": "markdown",
   "id": "ab75e98b-d266-44e2-a5e8-1c7ac1c657a9",
   "metadata": {},
   "source": [
    "<h2>Base de datos</h2>"
   ]
  },
  {
   "cell_type": "markdown",
   "id": "c5ea3cee-068f-471b-b057-78bfc95b4969",
   "metadata": {},
   "source": [
    "<b>Importar BD General</b>"
   ]
  },
  {
   "cell_type": "code",
   "execution_count": 23,
   "id": "af0eafb4-0501-496b-87d5-1008ae49a317",
   "metadata": {
    "collapsed": true,
    "jupyter": {
     "outputs_hidden": true
    }
   },
   "outputs": [
    {
     "name": "stdout",
     "output_type": "stream",
     "text": [
      "<class 'pandas.core.frame.DataFrame'>\n",
      "RangeIndex: 5868102 entries, 0 to 5868101\n",
      "Data columns (total 23 columns):\n",
      " #   Column                    Dtype  \n",
      "---  ------                    -----  \n",
      " 0   año                       int64  \n",
      " 1   eleccion_tipo             object \n",
      " 2   recuento_tipo             object \n",
      " 3   padron_tipo               object \n",
      " 4   distrito_id               int64  \n",
      " 5   distrito_nombre           object \n",
      " 6   seccionprovincial_id      int64  \n",
      " 7   seccionprovincial_nombre  object \n",
      " 8   seccion_id                int64  \n",
      " 9   seccion_nombre            object \n",
      " 10  circuito_id               object \n",
      " 11  circuito_nombre           object \n",
      " 12  mesa_id                   int64  \n",
      " 13  mesa_tipo                 object \n",
      " 14  mesa_electores            int64  \n",
      " 15  cargo_id                  int64  \n",
      " 16  cargo_nombre              object \n",
      " 17  agrupacion_id             int64  \n",
      " 18  agrupacion_nombre         object \n",
      " 19  lista_numero              float64\n",
      " 20  lista_nombre              object \n",
      " 21  votos_tipo                object \n",
      " 22  votos_cantidad            int64  \n",
      "dtypes: float64(1), int64(9), object(13)\n",
      "memory usage: 1.0+ GB\n"
     ]
    }
   ],
   "source": [
    "file_name = \"bases/ResultadosElectorales_2023.csv\"\n",
    "df_data = pd.read_csv(file_name, low_memory=False, encoding=\"utf-8\")\n",
    "df_data.info()"
   ]
  },
  {
   "cell_type": "markdown",
   "id": "d987a422-4604-45b8-96b6-cabd0fa5caad",
   "metadata": {},
   "source": [
    "<b>Importar BD Mapeo Nomenclator</b>"
   ]
  },
  {
   "cell_type": "code",
   "execution_count": 24,
   "id": "7ee94576-244c-4045-810e-a366de46c709",
   "metadata": {},
   "outputs": [
    {
     "name": "stdout",
     "output_type": "stream",
     "text": [
      "<class 'pandas.core.frame.DataFrame'>\n",
      "RangeIndex: 104520 entries, 0 to 104519\n",
      "Data columns (total 2 columns):\n",
      " #   Column               Non-Null Count   Dtype \n",
      "---  ------               --------------   ----- \n",
      " 0   nomenclator_mesa_id  104520 non-null  object\n",
      " 1   nomenclator_id       104520 non-null  int64 \n",
      "dtypes: int64(1), object(1)\n",
      "memory usage: 1.6+ MB\n"
     ]
    }
   ],
   "source": [
    "# Fuente: la cree yo a partir de la web oficial resultados.gob.ar\n",
    "file_name_nomenclator = \"mesa_id_nomenclator.csv\"\n",
    "df_nomenclator = pd.read_csv(file_name_nomenclator, low_memory=False, encoding=\"utf-8\")\n",
    "# Renombrar las columnas\n",
    "df_nomenclator.rename(columns={'i': 'nomenclator_id'}, inplace=True)\n",
    "df_nomenclator.rename(columns={'mesa_id': 'nomenclator_mesa_id'}, inplace=True)\n",
    "df_nomenclator.info()"
   ]
  },
  {
   "cell_type": "markdown",
   "id": "a2efb69e-ae78-433f-808a-f0ab1ef6541a",
   "metadata": {},
   "source": [
    "<b>Listar los cargos</b>"
   ]
  },
  {
   "cell_type": "code",
   "execution_count": 4,
   "id": "dd4353a4-6985-4730-9937-36aaf16ec006",
   "metadata": {},
   "outputs": [
    {
     "data": {
      "text/plain": [
       "array(['PRESIDENTE Y VICE', 'SENADOR NACIONAL', 'JEFE/A DE GOBIERNO',\n",
       "       'DIPUTADO NACIONAL', 'DIPUTADO PROVINCIAL', 'SENADOR PROVINCIAL',\n",
       "       'GOBERNADOR Y VICE', 'INTENDENTE', 'PARLAMENTO MERCOSUR NACIONAL',\n",
       "       'PARLAMENTO MERCOSUR REGIONAL', 'CONCEJAL',\n",
       "       'MIEMBROS DE JUNTA COMUNAL', 'DIPUTADOS/AS DE LA CIUDAD AUTONOMA'],\n",
       "      dtype=object)"
      ]
     },
     "execution_count": 4,
     "metadata": {},
     "output_type": "execute_result"
    }
   ],
   "source": [
    "df_data[\"cargo_nombre\"].unique()"
   ]
  },
  {
   "cell_type": "markdown",
   "id": "e4cf5107-a5cb-4b37-92be-9e7888ef1caa",
   "metadata": {},
   "source": [
    "<b>Listar Tipos de votos</b>"
   ]
  },
  {
   "cell_type": "code",
   "execution_count": 6,
   "id": "4b5143fa-b4a1-4481-8747-7fe26859e97a",
   "metadata": {},
   "outputs": [
    {
     "data": {
      "text/plain": [
       "array(['NULO', 'IMPUGNADO', 'RECURRIDO', 'COMANDO', 'POSITIVO',\n",
       "       'EN BLANCO'], dtype=object)"
      ]
     },
     "execution_count": 6,
     "metadata": {},
     "output_type": "execute_result"
    }
   ],
   "source": [
    "df_data[\"votos_tipo\"].unique()"
   ]
  },
  {
   "cell_type": "markdown",
   "id": "05c0a8c4-bd57-42d0-878b-dbba4b94e259",
   "metadata": {},
   "source": [
    "<b>Preparar la informacion</b>"
   ]
  },
  {
   "cell_type": "code",
   "execution_count": 53,
   "id": "87e694fb-9a17-40c4-9d6c-b6533cae9ac9",
   "metadata": {},
   "outputs": [],
   "source": [
    "cargo_presidencial = \"PRESIDENTE Y VICE\"\n",
    "\n",
    "# Agregar un ID combinado para asegurarase que sea unico\n",
    "df_data['id_mesa_unico'] = df_data['distrito_id'].astype(str) + \"-\" + \\\n",
    "                          df_data['seccionprovincial_id'].astype(str) + \"-\" + \\\n",
    "                          df_data['seccion_id'].astype(str) + \"-\" + \\\n",
    "                          df_data['circuito_id'].astype(str) + \"-\" + \\\n",
    "                          df_data['mesa_id'].astype(str)\n",
    "\n",
    "df_data['mesa_id_web'] = (\n",
    "    df_data['distrito_id'].apply(lambda x: f'{x:02}') + \n",
    "    df_data['seccion_id'].apply(lambda x: f'{x:03}') + \n",
    "    df_data['mesa_id'].apply(lambda x: f'{x:05}') + \n",
    "    \"X\"\n",
    ")\n",
    "\n",
    "# Considerar solo los votos positivos, nulos o en blanco\n",
    "selected_values = [\"POSITIVO\", \"NULO\", \"EN BLANCO\"]\n",
    "votos_considerados = df_data[df_data['votos_tipo'].isin(selected_values)]\n",
    "\n",
    "# Considerar solo los votos para presidente\n",
    "votos_considerados = votos_considerados[votos_considerados[\"cargo_nombre\"]==cargo_presidencial]\n",
    "\n",
    "# Agregar el ID del nomenclator\n",
    "# Merge df_data con df_nomenclator\n",
    "votos_considerados = pd.merge(votos_considerados, df_nomenclator, left_on='mesa_id_web', right_on='nomenclator_mesa_id', how='left')\n",
    "# Quitar nomenclator_mesa_id ya que va a estar duplicado\n",
    "votos_considerados.drop(columns=['nomenclator_mesa_id'], inplace=True)\n",
    "\n",
    "# Construir el link a la mesa en la pagina oficial del gobierno\n",
    "votos_considerados[\"mesa_URL\"] = (\n",
    "    \"https://resultados.gob.ar/elecciones/1/\" +\n",
    "    votos_considerados['nomenclator_id'].astype(str) +\n",
    "    \"/1/-1/-1/\" +\n",
    "    votos_considerados['distrito_nombre'].apply(lambda x: x.replace(\" \", \"-\")) + \"/\" +\n",
    "    votos_considerados['seccion_nombre'].apply(lambda x: x.replace(\" \", \"-\")) + \"/\" +\n",
    "    votos_considerados['circuito_nombre'].apply(lambda x: x.replace(\" \", \"-\")) + \"/\" +\n",
    "    votos_considerados['mesa_id_web']  \n",
    ")\n",
    "\n"
   ]
  },
  {
   "cell_type": "markdown",
   "id": "9c3f3600-20a2-482f-80d6-65fd06e02b95",
   "metadata": {},
   "source": [
    "<b>Aplanar la BD</b>"
   ]
  },
  {
   "cell_type": "code",
   "execution_count": 87,
   "id": "f010c31a-5494-415c-b034-64354b6084b8",
   "metadata": {
    "jupyter": {
     "source_hidden": true
    }
   },
   "outputs": [],
   "source": [
    "## Re-estructurar el DF de forma que cada agrupacion (y votos en blanco y nulos) tiene su propia columna\n",
    "\n",
    "# Crear nuevos DF dependiendo de 'votos_tipo'\n",
    "positivos_df = votos_considerados[votos_considerados['votos_tipo'] == 'POSITIVO'].copy()\n",
    "no_positivos_df = votos_considerados[votos_considerados['votos_tipo'] != 'POSITIVO'].copy()\n",
    "\n",
    "# Crear las nuevas columnas por partidos con votos y el id del partido\n",
    "positivos_df['new_col_name'] = positivos_df['agrupacion_nombre'].str.lower().str.replace(' ', '_')\n",
    "positivos_df['new_col_name_id'] = positivos_df['new_col_name'] + '_id'\n",
    "positivos_df.set_index(['mesa_id_web', 'new_col_name', 'new_col_name_id'], inplace=True)\n",
    "# Pivotear la tabla para que los valores de new_col_name pasen a ser las columnas\n",
    "positivos_pivot = positivos_df.pivot_table(index='mesa_id_web', \n",
    "                                           columns=['new_col_name', 'new_col_name_id'], \n",
    "                                           values=['votos_cantidad', 'agrupacion_id'], \n",
    "                                           aggfunc='first')\n",
    "\n",
    "# Crear las nuevas columnas para los votos no positivos\n",
    "no_positivos_df['new_col_name'] = no_positivos_df['votos_tipo'].str.lower().str.replace(' ', '_')\n",
    "# Pivotear la tabla para que los valores de new_col_name pasen a ser las columnas\n",
    "no_positivos_pivot = no_positivos_df.pivot_table(index='mesa_id_web', \n",
    "                                                 columns='new_col_name', \n",
    "                                                 values='votos_cantidad', \n",
    "                                                 aggfunc='sum')\n",
    "\n",
    "# Aplanar los votos_considerados_flat y renombrar\n",
    "new_columns = []\n",
    "for col in positivos_pivot.columns:\n",
    "    if col[0] == 'votos_cantidad':\n",
    "        new_columns.append(col[1])  # Solo el partido por ahora\n",
    "    elif col[0] == 'agrupacion_id':\n",
    "        new_columns.append(f\"{col[1]}_id\")  # Partido con sufijo \"_id\"\n",
    "\n",
    "positivos_pivot.columns = new_columns\n",
    "no_positivos_pivot.columns = no_positivos_pivot.columns.get_level_values(0)\n",
    "\n",
    "# Unir los DF pivoteads\n",
    "merged_df = pd.merge(positivos_pivot, no_positivos_pivot, on='mesa_id_web', how='outer')\n",
    "\n",
    "# Agregar las otras columnas (tomando el primer valor, ya que es constante para la mesa)\n",
    "other_cols = votos_considerados.drop(columns=['votos_cantidad', 'agrupacion_nombre', 'agrupacion_id', 'votos_tipo'])\n",
    "first_values = other_cols.groupby('mesa_id_web').first().reset_index()\n",
    "\n",
    "# Union final\n",
    "votos_considerados_flat = pd.merge(merged_df, first_values, on='mesa_id_web', how='left')\n",
    "\n",
    "# Agregar total y porcentajes\n",
    "columnas_con_votos = [\n",
    "    'frente_de_izquierda_y_de_trabajadores_-_unidad', \n",
    "    'hacemos_por_nuestro_pais',\n",
    "    'juntos_por_el_cambio',\n",
    "    'la_libertad_avanza',\n",
    "    'union_por_la_patria',\n",
    "    'en_blanco',\n",
    "    'nulo'\n",
    "]\n",
    "\n",
    "# Total\n",
    "votos_considerados_flat['total_votos'] = votos_considerados_flat[columnas_con_votos].sum(axis=1)\n",
    "votos_considerados_flat['total_positivos'] = votos_considerados_flat['total_votos'] - votos_considerados_flat['nulo'] - votos_considerados_flat['en_blanco']\n",
    "\n",
    "# Porcentajes\n",
    "for column in columnas_con_votos:\n",
    "    perc_column = column + '_perc'\n",
    "    votos_considerados_flat[perc_column] = (votos_considerados_flat[column] / votos_considerados_flat['total_positivos']) * 100\n",
    "\n",
    "# Convertir \"Nan\" en 0 (por si hubo alguna divion por 0)\n",
    "votos_considerados_flat.fillna(0, inplace=True)\n",
    "\n",
    "\n",
    "# Mapeo de nombres completos de partidos a nombres cortos\n",
    "partidos_columnas_map = {\n",
    "    'frente_de_izquierda_y_de_trabajadores_-_unidad': 'fit', \n",
    "    'hacemos_por_nuestro_pais': 'hxp',\n",
    "    'juntos_por_el_cambio': 'jxc',\n",
    "    'la_libertad_avanza': 'lla',\n",
    "    'union_por_la_patria': 'up'\n",
    "}\n",
    "\n",
    "# Agregar las columnas para el nombre completo de cada partido en mayúsculas\n",
    "for full_name, short_name in partidos_columnas_map.items():\n",
    "    uppercase_name = full_name.replace(\"_\", \" \").upper()\n",
    "    votos_considerados_flat[short_name + '_nombre'] = uppercase_name\n",
    "\n",
    "# Lista para establecer el orden de las columnas\n",
    "ordered_columns = ['mesa_id_web', 'mesa_URL']\n",
    "\n",
    "# Agregar el nombre, ID, votos y % de cada partido al orden de las columnas\n",
    "for full_name, short_name in partidos_columnas_map.items():\n",
    "    ordered_columns.extend([\n",
    "        short_name + '_nombre', short_name + '_id', short_name + '_votos', short_name + '_perc'\n",
    "    ])\n",
    "\n",
    "# Renombrar las columnas de los partidos en el DataFrame\n",
    "for full_name, short_name in partidos_columnas_map.items():\n",
    "    votos_considerados_flat.rename(\n",
    "        columns={\n",
    "            full_name + '_id': short_name + '_id',\n",
    "            full_name: short_name + '_votos',\n",
    "            full_name + '_perc': short_name + '_perc'\n",
    "        },\n",
    "        inplace=True\n",
    "    )\n",
    "\n",
    "# Agregar columnas de votos no positivos\n",
    "non_positivo_columns = ['en_blanco', 'en_blanco_perc', 'nulo', 'nulo_perc', 'total_positivos','total_votos']\n",
    "ordered_columns.extend(non_positivo_columns)\n",
    "\n",
    "# Agregar otras columnas (excluyendo aquellas ya incluidas)\n",
    "other_columns = [col for col in votos_considerados_flat.columns if col not in ordered_columns]\n",
    "ordered_columns.extend(other_columns)\n",
    "\n",
    "# Reordenar el DataFrame\n",
    "votos_considerados_flat = votos_considerados_flat[ordered_columns]\n"
   ]
  },
  {
   "cell_type": "code",
   "execution_count": 88,
   "id": "57b1e2a1-2ba3-4a20-9a87-1663cda1723d",
   "metadata": {},
   "outputs": [
    {
     "data": {
      "text/plain": [
       "mesa_id_web                                                       0100100003X\n",
       "mesa_URL                    https://resultados.gob.ar/elecciones/1/23956/1...\n",
       "fit_nombre                     FRENTE DE IZQUIERDA Y DE TRABAJADORES - UNIDAD\n",
       "fit_id                                                                    136\n",
       "fit_votos                                                                   6\n",
       "fit_perc                                                                 2.64\n",
       "hxp_nombre                                           HACEMOS POR NUESTRO PAIS\n",
       "hxp_id                                                                    133\n",
       "hxp_votos                                                                   5\n",
       "hxp_perc                                                                 2.20\n",
       "jxc_nombre                                               JUNTOS POR EL CAMBIO\n",
       "jxc_id                                                                    132\n",
       "jxc_votos                                                                  84\n",
       "jxc_perc                                                                37.00\n",
       "lla_nombre                                                 LA LIBERTAD AVANZA\n",
       "lla_id                                                                    135\n",
       "lla_votos                                                                  35\n",
       "lla_perc                                                                15.42\n",
       "up_nombre                                                 UNION POR LA PATRIA\n",
       "up_id                                                                     134\n",
       "up_votos                                                                   97\n",
       "up_perc                                                                 42.73\n",
       "en_blanco                                                                   3\n",
       "en_blanco_perc                                                           1.32\n",
       "nulo                                                                        4\n",
       "nulo_perc                                                                1.76\n",
       "total_positivos                                                           227\n",
       "total_votos                                                               234\n",
       "año                                                                      2023\n",
       "eleccion_tipo                                                         GENERAL\n",
       "recuento_tipo                                                      PROVISORIO\n",
       "padron_tipo                                                            NORMAL\n",
       "distrito_id                                                                 1\n",
       "distrito_nombre                               Ciudad Autónoma de Buenos Aires\n",
       "seccionprovincial_id                                                        0\n",
       "seccionprovincial_nombre                                                    0\n",
       "seccion_id                                                                  1\n",
       "seccion_nombre                                                      Comuna 01\n",
       "circuito_id                                                             00001\n",
       "circuito_nombre                                                         00001\n",
       "mesa_id                                                                     3\n",
       "mesa_tipo                                                             NATIVOS\n",
       "mesa_electores                                                            342\n",
       "cargo_id                                                                    1\n",
       "cargo_nombre                                                PRESIDENTE Y VICE\n",
       "lista_numero                                                             0.00\n",
       "lista_nombre                                                                0\n",
       "id_mesa_unico                                                   1-0-1-00001-3\n",
       "nomenclator_id                                                          23956\n",
       "Name: 2, dtype: object"
      ]
     },
     "execution_count": 88,
     "metadata": {},
     "output_type": "execute_result"
    }
   ],
   "source": [
    "votos_considerados_flat.loc[2]\n",
    "\n"
   ]
  },
  {
   "cell_type": "markdown",
   "id": "3e4ba00d-d27b-46b2-8255-6794139d3a60",
   "metadata": {},
   "source": [
    "<h2>Chequear Totales</h2>"
   ]
  },
  {
   "cell_type": "code",
   "execution_count": 92,
   "id": "a7e57b13-64f7-4ea6-b09d-19c8e043955f",
   "metadata": {},
   "outputs": [
    {
     "name": "stdout",
     "output_type": "stream",
     "text": [
      "UP: 36.688294770239054 (9645983 votos)\n",
      "FIT: 2.7002115266868447 (709932 votos)\n",
      "JXC: 23.836981668523904 (6267152 votos)\n",
      "LLA: 29.987907218539313 (7884336 votos)\n",
      "HXP: 6.7866048160108825 (1784315 votos)\n",
      "NULOS: 0.8552655250600208 (224864 votos)\n",
      "EN BLANCO: 2.107739783303624 (554161 votos)\n"
     ]
    }
   ],
   "source": [
    "votos_positivos_totales = votos_considerados_flat[\"total_positivos\"].sum()\n",
    "votos_up = votos_considerados_flat[\"up_votos\"].sum()\n",
    "votos_fit = votos_considerados_flat[\"fit_votos\"].sum()\n",
    "votos_jxc = votos_considerados_flat[\"jxc_votos\"].sum()\n",
    "votos_lla = votos_considerados_flat[\"lla_votos\"].sum()\n",
    "votos_hxp = votos_considerados_flat[\"hxp_votos\"].sum()\n",
    "votos_nulos = votos_considerados_flat[\"nulo\"].sum()\n",
    "votos_blanco = votos_considerados_flat[\"en_blanco\"].sum()\n",
    "\n",
    "print(f\"UP: {votos_up / votos_positivos_totales * 100} ({votos_up} votos)\")\n",
    "print(f\"FIT: {votos_fit / votos_positivos_totales * 100} ({votos_fit} votos)\")\n",
    "print(f\"JXC: {votos_jxc / votos_positivos_totales * 100} ({votos_jxc} votos)\")\n",
    "print(f\"LLA: {votos_lla / votos_positivos_totales * 100} ({votos_lla} votos)\")\n",
    "print(f\"HXP: {votos_hxp / votos_positivos_totales * 100} ({votos_hxp} votos)\")\n",
    "print(f\"NULOS: {votos_nulos / votos_positivos_totales * 100} ({votos_nulos} votos)\")\n",
    "print(f\"EN BLANCO: {votos_blanco / votos_positivos_totales * 100} ({votos_blanco} votos)\")\n"
   ]
  },
  {
   "cell_type": "markdown",
   "id": "ae2ff968-b4fc-4e6d-9620-d481f8c4d352",
   "metadata": {},
   "source": [
    "<img src=\"totales_oficiales_2023.png\">"
   ]
  },
  {
   "cell_type": "markdown",
   "id": "2be702f2-7efb-46d7-a2d9-b9f6733e9722",
   "metadata": {},
   "source": [
    "<h2>EXPORTAR A CSV</h2>"
   ]
  },
  {
   "cell_type": "code",
   "execution_count": 94,
   "id": "51c799b7-14c4-400c-99c6-54fc554a6e55",
   "metadata": {},
   "outputs": [],
   "source": [
    "votos_considerados_flat.to_csv('elecciones_2023_votos_flat.csv', index=False, encoding='latin1')"
   ]
  }
 ],
 "metadata": {
  "kernelspec": {
   "display_name": "Python 3 (ipykernel)",
   "language": "python",
   "name": "python3"
  },
  "language_info": {
   "codemirror_mode": {
    "name": "ipython",
    "version": 3
   },
   "file_extension": ".py",
   "mimetype": "text/x-python",
   "name": "python",
   "nbconvert_exporter": "python",
   "pygments_lexer": "ipython3",
   "version": "3.11.0"
  }
 },
 "nbformat": 4,
 "nbformat_minor": 5
}
